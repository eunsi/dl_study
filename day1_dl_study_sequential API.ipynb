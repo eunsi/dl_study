{
 "cells": [
  {
   "cell_type": "markdown",
   "id": "72f31c1f",
   "metadata": {},
   "source": [
    "# Deep Learning Study"
   ]
  },
  {
   "cell_type": "markdown",
   "id": "feb6f933",
   "metadata": {},
   "source": [
    "### Sequential API"
   ]
  },
  {
   "cell_type": "markdown",
   "id": "92804f06",
   "metadata": {},
   "source": [
    "Sequential은 레이어를 순차적으로 쌓고 일자적인 느낌이다."
   ]
  },
  {
   "cell_type": "markdown",
   "id": "b4811ee0",
   "metadata": {},
   "source": [
    "### Linear Regression"
   ]
  },
  {
   "cell_type": "markdown",
   "id": "6190f237",
   "metadata": {},
   "source": [
    "#### 회귀문제!"
   ]
  },
  {
   "cell_type": "code",
   "execution_count": 1,
   "id": "04e93699",
   "metadata": {},
   "outputs": [],
   "source": [
    "import tensorflow as tf\n",
    "from tensorflow import keras"
   ]
  },
  {
   "cell_type": "code",
   "execution_count": 2,
   "id": "f7abb86a",
   "metadata": {},
   "outputs": [],
   "source": [
    "from sklearn.datasets import load_boston"
   ]
  },
  {
   "cell_type": "code",
   "execution_count": 3,
   "id": "135dbe77",
   "metadata": {},
   "outputs": [
    {
     "name": "stderr",
     "output_type": "stream",
     "text": [
      "C:\\Users\\User\\AppData\\Roaming\\Python\\Python38\\site-packages\\sklearn\\utils\\deprecation.py:87: FutureWarning: Function load_boston is deprecated; `load_boston` is deprecated in 1.0 and will be removed in 1.2.\n",
      "\n",
      "    The Boston housing prices dataset has an ethical problem. You can refer to\n",
      "    the documentation of this function for further details.\n",
      "\n",
      "    The scikit-learn maintainers therefore strongly discourage the use of this\n",
      "    dataset unless the purpose of the code is to study and educate about\n",
      "    ethical issues in data science and machine learning.\n",
      "\n",
      "    In this special case, you can fetch the dataset from the original\n",
      "    source::\n",
      "\n",
      "        import pandas as pd\n",
      "        import numpy as np\n",
      "\n",
      "\n",
      "        data_url = \"http://lib.stat.cmu.edu/datasets/boston\"\n",
      "        raw_df = pd.read_csv(data_url, sep=\"\\s+\", skiprows=22, header=None)\n",
      "        data = np.hstack([raw_df.values[::2, :], raw_df.values[1::2, :2]])\n",
      "        target = raw_df.values[1::2, 2]\n",
      "\n",
      "    Alternative datasets include the California housing dataset (i.e.\n",
      "    :func:`~sklearn.datasets.fetch_california_housing`) and the Ames housing\n",
      "    dataset. You can load the datasets as follows::\n",
      "\n",
      "        from sklearn.datasets import fetch_california_housing\n",
      "        housing = fetch_california_housing()\n",
      "\n",
      "    for the California housing dataset and::\n",
      "\n",
      "        from sklearn.datasets import fetch_openml\n",
      "        housing = fetch_openml(name=\"house_prices\", as_frame=True)\n",
      "\n",
      "    for the Ames housing dataset.\n",
      "    \n",
      "  warnings.warn(msg, category=FutureWarning)\n"
     ]
    }
   ],
   "source": [
    "boston = load_boston()"
   ]
  },
  {
   "cell_type": "code",
   "execution_count": 4,
   "id": "62cc2286",
   "metadata": {},
   "outputs": [],
   "source": [
    "x = boston.data\n",
    "y = boston.target"
   ]
  },
  {
   "cell_type": "code",
   "execution_count": 6,
   "id": "42b293b4",
   "metadata": {},
   "outputs": [
    {
     "data": {
      "text/plain": [
       "((506, 13), (506,))"
      ]
     },
     "execution_count": 6,
     "metadata": {},
     "output_type": "execute_result"
    }
   ],
   "source": [
    "#꼭 shape를 사용해서 파악을 해야한다.\n",
    "\n",
    "x.shape, y.shape"
   ]
  },
  {
   "cell_type": "code",
   "execution_count": 16,
   "id": "0bcf10e0",
   "metadata": {},
   "outputs": [],
   "source": [
    "keras.backend.clear_session()\n",
    "\n",
    "model = keras.models.Sequential()\n",
    "\n",
    "model.add(keras.layers.Input(shape=(13,)))\n",
    "model.add(keras.layers.Dense(1))\n",
    "\n",
    "model.compile(loss='mse', optimizer='adam')"
   ]
  },
  {
   "cell_type": "code",
   "execution_count": 17,
   "id": "88b9ff3f",
   "metadata": {},
   "outputs": [
    {
     "name": "stdout",
     "output_type": "stream",
     "text": [
      "Epoch 1/10\n",
      "16/16 [==============================] - 0s 1ms/step - loss: 16799.5684\n",
      "Epoch 2/10\n",
      "16/16 [==============================] - 0s 1ms/step - loss: 13293.0088\n",
      "Epoch 3/10\n",
      "16/16 [==============================] - 0s 1ms/step - loss: 10388.2754\n",
      "Epoch 4/10\n",
      "16/16 [==============================] - 0s 1ms/step - loss: 7951.7471\n",
      "Epoch 5/10\n",
      "16/16 [==============================] - 0s 1ms/step - loss: 6033.0352\n",
      "Epoch 6/10\n",
      "16/16 [==============================] - 0s 1ms/step - loss: 4541.6201\n",
      "Epoch 7/10\n",
      "16/16 [==============================] - 0s 1ms/step - loss: 3389.1299\n",
      "Epoch 8/10\n",
      "16/16 [==============================] - 0s 1ms/step - loss: 2511.7568\n",
      "Epoch 9/10\n",
      "16/16 [==============================] - 0s 1ms/step - loss: 1881.4586\n",
      "Epoch 10/10\n",
      "16/16 [==============================] - 0s 1ms/step - loss: 1429.9425\n"
     ]
    },
    {
     "data": {
      "text/plain": [
       "<keras.callbacks.History at 0x1f6b5acf040>"
      ]
     },
     "execution_count": 17,
     "metadata": {},
     "output_type": "execute_result"
    }
   ],
   "source": [
    "#학습시키기\n",
    "model.fit(x,y, epochs=10, verbose=1)"
   ]
  },
  {
   "cell_type": "code",
   "execution_count": 18,
   "id": "afeabfc9",
   "metadata": {
    "collapsed": true
   },
   "outputs": [
    {
     "data": {
      "text/plain": [
       "array([ 35.47984   ,  37.1095    ,  38.446667  ,  37.452297  ,\n",
       "        36.960896  ,  35.9695    ,  39.78831   ,  37.263123  ,\n",
       "        38.619003  ,  37.67049   ,  37.63902   ,  37.69845   ,\n",
       "        44.24222   ,  45.429943  ,  41.895985  ,  46.148323  ,\n",
       "        49.001034  ,  43.58812   ,  44.470417  ,  44.677563  ,\n",
       "        41.96173   ,  42.55816   ,  43.468365  ,  42.46039   ,\n",
       "        42.56553   ,  39.31636   ,  41.91126   ,  39.27627   ,\n",
       "        41.524952  ,  41.92475   ,  42.21304   ,  39.87016   ,\n",
       "        38.999172  ,  40.98944   ,  35.797085  ,  41.606476  ,\n",
       "        42.02434   ,  45.165813  ,  46.933727  ,   1.0070249 ,\n",
       "         1.420631  ,  44.824947  ,  44.25477   ,  45.19773   ,\n",
       "        40.647896  ,  41.93202   ,  42.97264   ,  36.469616  ,\n",
       "        37.963387  ,  39.281296  ,  29.777412  ,  26.324308  ,\n",
       "        31.56547   ,  32.136314  ,  25.978151  , -11.538153  ,\n",
       "         1.7696191 , -16.248653  ,  30.650627  ,  28.917612  ,\n",
       "        26.98247   ,  22.645475  ,  25.516022  ,  29.675072  ,\n",
       "        25.68507   ,   9.162838  ,   8.454462  ,  49.167263  ,\n",
       "        48.08348   ,  47.678677  ,  52.61977   ,  51.33451   ,\n",
       "        52.403534  ,  52.462757  ,  64.3299    ,  58.704384  ,\n",
       "        54.757336  ,  59.0574    ,  58.424343  ,  60.44858   ,\n",
       "        31.843273  ,  26.93847   ,  32.254612  ,  30.032948  ,\n",
       "        41.73361   ,  39.68206   ,  42.782288  ,  40.038128  ,\n",
       "        38.981586  ,  42.328327  ,  42.28085   ,  41.08478   ,\n",
       "        26.161903  ,  29.228416  ,  23.394201  ,  42.027687  ,\n",
       "        42.966766  ,  41.118256  ,  46.33944   ,  43.36265   ,\n",
       "        52.554188  ,  53.43174   ,  36.36835   ,  52.24044   ,\n",
       "        51.56117   ,  51.58225   ,  52.849934  ,  52.427235  ,\n",
       "        50.746025  ,  52.054295  ,  56.86704   ,  58.599827  ,\n",
       "        58.175858  ,  58.12762   ,  57.826176  ,  56.31677   ,\n",
       "        60.075806  ,  58.218887  ,  58.082138  ,  61.278194  ,\n",
       "        31.534122  ,  28.937395  ,  28.559347  ,  29.344614  ,\n",
       "        28.098139  ,  28.760422  ,  29.28911   ,  58.163548  ,\n",
       "        57.739826  ,  58.561638  ,  56.96197   ,  56.723625  ,\n",
       "        56.16503   ,  57.56066   ,  51.326656  ,  57.961277  ,\n",
       "        57.825024  ,  57.46323   ,  58.890896  ,  58.432377  ,\n",
       "        60.113453  ,  61.16929   ,  55.840977  ,  55.10013   ,\n",
       "        56.529472  ,  45.61876   ,  42.719135  ,  56.824986  ,\n",
       "        55.226856  ,  53.108902  ,  52.629906  ,  50.415894  ,\n",
       "        52.30371   ,  47.203587  ,  50.99851   ,  40.76208   ,\n",
       "        39.3467    ,  50.16508   ,  49.478043  ,  50.433056  ,\n",
       "        49.99319   ,  50.99654   ,  50.954754  ,  52.150204  ,\n",
       "        53.414764  ,  45.128674  ,  50.332775  ,  47.491173  ,\n",
       "        48.07157   ,  49.791195  ,  49.209602  ,  50.441193  ,\n",
       "        42.488422  ,  41.95109   ,  44.032753  ,  48.173214  ,\n",
       "        47.258656  ,  42.80248   ,  42.757893  ,  32.88306   ,\n",
       "        30.084484  ,  33.161873  ,  27.900925  ,  27.581326  ,\n",
       "        29.856386  ,  32.63339   ,  33.458447  ,  34.112534  ,\n",
       "        34.69203   ,  34.362675  ,  35.75904   ,  34.858368  ,\n",
       "        35.21818   ,  14.668104  ,  12.38631   ,  -2.6339755 ,\n",
       "         7.6726885 ,   6.304201  ,   7.4544244 ,   9.320945  ,\n",
       "         8.940667  ,   7.875172  ,  10.574958  , -15.457546  ,\n",
       "       -15.544513  ,  48.549507  ,  44.233925  ,  42.625416  ,\n",
       "        43.813293  ,  40.409756  ,  40.2548    ,  42.22054   ,\n",
       "        45.26266   ,  46.363968  ,  52.324665  ,  45.23719   ,\n",
       "        44.27981   ,  39.0802    ,  40.12503   ,  38.500286  ,\n",
       "        41.363155  ,  43.710102  ,  42.75301   ,  41.6747    ,\n",
       "        41.23435   ,  40.569828  ,  39.83269   ,  40.556053  ,\n",
       "        49.4195    ,  48.50328   ,  43.419403  ,  40.954388  ,\n",
       "        41.481243  ,  42.00263   ,  42.480625  ,  44.224083  ,\n",
       "        42.699814  ,  42.21378   ,  32.270332  ,  29.365593  ,\n",
       "        29.029537  ,  27.668707  ,  28.143858  ,  33.235374  ,\n",
       "        32.194603  ,  35.33755   ,  38.274197  ,  31.600887  ,\n",
       "        35.76048   ,  40.550083  ,  41.12026   ,  40.18159   ,\n",
       "        41.083347  ,  41.61791   ,   5.9027953 ,   8.441392  ,\n",
       "       -10.617189  ,  25.867092  ,  23.915524  ,  23.978962  ,\n",
       "        27.421835  ,  25.654242  ,  25.209412  ,  25.944227  ,\n",
       "        25.425789  ,  29.764456  ,  27.689564  ,  28.875793  ,\n",
       "        29.958237  ,  25.88966   ,  27.941826  ,  30.655289  ,\n",
       "        24.887272  ,  25.985863  ,  19.9413    ,  18.082672  ,\n",
       "        17.989756  ,  20.690018  ,  20.528387  ,  27.17167   ,\n",
       "        22.184649  ,  26.27364   ,  23.877457  , -12.570931  ,\n",
       "        -1.1025151 ,  19.594492  ,  -4.370871  ,  17.326118  ,\n",
       "        15.419038  ,  17.985958  ,  -4.4953465 ,  -4.349633  ,\n",
       "        -3.5885105 ,  50.465145  ,  47.45255   ,  48.22247   ,\n",
       "        45.448982  ,  46.415226  ,  15.807134  ,  17.557358  ,\n",
       "        13.413218  ,  31.582418  ,  33.89271   ,  33.539127  ,\n",
       "        18.001953  ,  15.871352  ,  13.69975   ,  14.031821  ,\n",
       "        41.925808  ,  43.9079    ,  46.624516  ,  46.251453  ,\n",
       "        42.430138  ,  42.517467  ,  42.352226  ,  44.09557   ,\n",
       "        44.706074  ,  46.068047  ,  45.39667   ,  47.100628  ,\n",
       "        44.21232   ,  43.826687  ,  44.482616  ,  41.62365   ,\n",
       "        45.614227  ,  48.901142  ,  47.19975   ,  46.642902  ,\n",
       "        66.73078   ,  67.11186   ,  65.015205  ,  32.61233   ,\n",
       "        30.808123  ,  37.692318  ,  37.881733  ,  39.045734  ,\n",
       "        37.755177  ,  35.939228  ,  38.755928  ,  37.899414  ,\n",
       "        35.910595  ,  26.416536  ,  62.81312   ,  22.370768  ,\n",
       "        25.407063  ,  54.154087  ,  53.06853   ,   6.419063  ,\n",
       "         0.40117604,  30.845903  ,  29.649057  ,  26.041449  ,\n",
       "        29.923838  , -19.081505  ,   7.000042  ,   6.471296  ,\n",
       "        73.42778   ,  76.27609   ,  76.45065   ,  76.90954   ,\n",
       "        73.95757   ,  74.17834   ,  73.75715   ,  74.72761   ,\n",
       "        74.57242   ,  72.03468   ,  72.10572   ,  57.14062   ,\n",
       "        70.58452   ,  71.606285  ,  71.83608   ,  70.07664   ,\n",
       "        71.197586  ,  76.43857   ,  73.71679   ,  68.5253    ,\n",
       "        71.63726   ,  74.45981   ,  69.17779   ,  70.54058   ,\n",
       "        39.456768  ,  71.62465   ,  74.79276   ,  75.54899   ,\n",
       "        67.2477    ,  73.34855   ,  68.93186   ,  72.21876   ,\n",
       "        72.86219   ,  74.70405   ,  74.57341   ,  77.10359   ,\n",
       "        74.51803   ,  74.24367   ,  72.05158   ,  73.637436  ,\n",
       "        76.05747   ,  74.609406  ,  63.52592   ,  76.43986   ,\n",
       "        68.652405  ,  71.99219   ,  73.0632    ,  67.4674    ,\n",
       "        60.21397   ,  48.088596  ,  67.929924  ,  67.70098   ,\n",
       "        72.57676   ,  61.4183    ,  34.032887  ,  54.946693  ,\n",
       "        55.123398  ,  56.227703  ,  46.690907  ,  54.640755  ,\n",
       "        58.210556  ,  56.63184   ,  27.393454  ,  60.411892  ,\n",
       "        68.385994  ,  70.96657   ,  67.93519   ,  58.957516  ,\n",
       "        58.671448  ,  54.06994   ,  59.43258   ,  45.047985  ,\n",
       "        63.97845   ,  59.54062   ,  60.759514  ,  59.41921   ,\n",
       "        62.650047  ,  62.340965  ,  57.33976   ,  61.14125   ,\n",
       "        54.62494   ,  54.392193  ,  61.41112   ,  75.444     ,\n",
       "        69.65553   ,  73.707825  ,  74.8164    ,  73.099724  ,\n",
       "        66.31497   ,  58.244823  ,  71.645515  ,  73.04136   ,\n",
       "        73.78069   ,  70.53394   ,  56.74892   ,  73.61108   ,\n",
       "        75.901215  ,  73.16839   ,  55.898056  ,  61.023666  ,\n",
       "        58.97153   ,  57.646038  ,  70.201355  ,  76.08428   ,\n",
       "        69.94917   ,  76.70039   ,  76.2451    ,  74.64499   ,\n",
       "        77.98818   ,  79.60591   ,  59.891373  ,  74.0489    ,\n",
       "        73.47015   ,  77.1063    ,  77.562614  ,  75.83691   ,\n",
       "        78.63991   ,  77.849525  ,  72.407364  ,  72.10874   ,\n",
       "        76.61787   ,  70.51259   ,  72.767075  ,  71.20097   ,\n",
       "        78.32518   ,  76.15816   ,  75.86528   ,  82.73115   ,\n",
       "        82.3954    ,  80.70869   ,  77.02918   ,  80.09537   ,\n",
       "        92.91634   ,  91.05955   ,  91.14168   ,  91.976395  ,\n",
       "        93.34924   ,  57.41233   ,  59.436962  ,  62.166363  ,\n",
       "        56.75753   ,  55.51626   ,  56.074276  ,  55.27161   ,\n",
       "        54.36192   ,  42.009575  ,  40.893726  ,  38.259514  ,\n",
       "        38.462254  ,  39.98935   ], dtype=float32)"
      ]
     },
     "execution_count": 18,
     "metadata": {},
     "output_type": "execute_result"
    }
   ],
   "source": [
    "model.predict(x).reshape(-1)"
   ]
  },
  {
   "cell_type": "code",
   "execution_count": 19,
   "id": "e15e367e",
   "metadata": {},
   "outputs": [
    {
     "data": {
      "text/plain": [
       "array([35.47984 , 37.1095  , 38.446667, 37.452297, 36.960896],\n",
       "      dtype=float32)"
      ]
     },
     "execution_count": 19,
     "metadata": {},
     "output_type": "execute_result"
    }
   ],
   "source": [
    "# 예측하기\n",
    "y_pred = model.predict(x)\n",
    "y_pred[:5].reshape(-1)"
   ]
  },
  {
   "cell_type": "code",
   "execution_count": 15,
   "id": "2f02aab4",
   "metadata": {},
   "outputs": [
    {
     "data": {
      "text/plain": [
       "array([24. , 21.6, 34.7, 33.4, 36.2])"
      ]
     },
     "execution_count": 15,
     "metadata": {},
     "output_type": "execute_result"
    }
   ],
   "source": [
    "y[:5]"
   ]
  },
  {
   "cell_type": "markdown",
   "id": "8ca820d6",
   "metadata": {},
   "source": [
    "#### 분류문제"
   ]
  },
  {
   "cell_type": "code",
   "execution_count": 20,
   "id": "eb181dc7",
   "metadata": {},
   "outputs": [],
   "source": [
    "from sklearn.datasets import load_breast_cancer"
   ]
  },
  {
   "cell_type": "code",
   "execution_count": 21,
   "id": "4f7cb91d",
   "metadata": {},
   "outputs": [],
   "source": [
    "cancer = load_breast_cancer()"
   ]
  },
  {
   "cell_type": "code",
   "execution_count": 22,
   "id": "ba4e2f1a",
   "metadata": {},
   "outputs": [
    {
     "data": {
      "text/plain": [
       "((569, 30), (569,))"
      ]
     },
     "execution_count": 22,
     "metadata": {},
     "output_type": "execute_result"
    }
   ],
   "source": [
    "x = cancer.data\n",
    "y = cancer.target\n",
    "\n",
    "x.shape, y.shape"
   ]
  },
  {
   "cell_type": "code",
   "execution_count": 23,
   "id": "b3290df9",
   "metadata": {},
   "outputs": [],
   "source": [
    "keras.backend.clear_session()\n",
    "\n",
    "model = keras.models.Sequential()\n",
    "\n",
    "model.add( keras.layers.Input(shape=(30,)))\n",
    "model.add( keras.layers.Dense(1, activation='sigmoid'))\n",
    "\n",
    "model.compile(loss='binary_crossentropy', optimizer='adam', metrics=['accuracy'])"
   ]
  },
  {
   "cell_type": "code",
   "execution_count": 24,
   "id": "ec650768",
   "metadata": {},
   "outputs": [
    {
     "name": "stdout",
     "output_type": "stream",
     "text": [
      "Epoch 1/10\n",
      "18/18 [==============================] - 0s 1ms/step - loss: 34.4358 - accuracy: 0.5431\n",
      "Epoch 2/10\n",
      "18/18 [==============================] - 0s 1ms/step - loss: 25.5573 - accuracy: 0.2689\n",
      "Epoch 3/10\n",
      "18/18 [==============================] - 0s 1ms/step - loss: 23.8393 - accuracy: 0.2109\n",
      "Epoch 4/10\n",
      "18/18 [==============================] - 0s 1ms/step - loss: 23.1073 - accuracy: 0.2162\n",
      "Epoch 5/10\n",
      "18/18 [==============================] - 0s 1ms/step - loss: 22.3295 - accuracy: 0.2408\n",
      "Epoch 6/10\n",
      "18/18 [==============================] - 0s 1ms/step - loss: 21.5400 - accuracy: 0.2619\n",
      "Epoch 7/10\n",
      "18/18 [==============================] - 0s 1ms/step - loss: 20.7724 - accuracy: 0.2496\n",
      "Epoch 8/10\n",
      "18/18 [==============================] - 0s 1ms/step - loss: 19.8885 - accuracy: 0.2742\n",
      "Epoch 9/10\n",
      "18/18 [==============================] - 0s 1ms/step - loss: 19.0662 - accuracy: 0.2847\n",
      "Epoch 10/10\n",
      "18/18 [==============================] - 0s 1ms/step - loss: 18.3502 - accuracy: 0.3076\n"
     ]
    },
    {
     "data": {
      "text/plain": [
       "<keras.callbacks.History at 0x1f6b5b709a0>"
      ]
     },
     "execution_count": 24,
     "metadata": {},
     "output_type": "execute_result"
    }
   ],
   "source": [
    "model.fit(x,y, epochs=10, verbose=1)"
   ]
  },
  {
   "cell_type": "code",
   "execution_count": 25,
   "id": "b0cb8983",
   "metadata": {},
   "outputs": [
    {
     "data": {
      "text/plain": [
       "array([[1.0000000e+00],\n",
       "       [1.0000000e+00],\n",
       "       [9.5695436e-01],\n",
       "       [1.0000000e+00],\n",
       "       [5.5960938e-30]], dtype=float32)"
      ]
     },
     "execution_count": 25,
     "metadata": {},
     "output_type": "execute_result"
    }
   ],
   "source": [
    "y_pred = model.predict(x)\n",
    "y_pred[:5]"
   ]
  },
  {
   "cell_type": "code",
   "execution_count": 26,
   "id": "b02b2d93",
   "metadata": {},
   "outputs": [
    {
     "data": {
      "text/plain": [
       "array([0, 0, 0, 0, 0])"
      ]
     },
     "execution_count": 26,
     "metadata": {},
     "output_type": "execute_result"
    }
   ],
   "source": [
    "y[:5]"
   ]
  }
 ],
 "metadata": {
  "kernelspec": {
   "display_name": "Python 3",
   "language": "python",
   "name": "python3"
  },
  "language_info": {
   "codemirror_mode": {
    "name": "ipython",
    "version": 3
   },
   "file_extension": ".py",
   "mimetype": "text/x-python",
   "name": "python",
   "nbconvert_exporter": "python",
   "pygments_lexer": "ipython3",
   "version": "3.8.8"
  }
 },
 "nbformat": 4,
 "nbformat_minor": 5
}
