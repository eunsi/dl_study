{
 "cells": [
  {
   "cell_type": "markdown",
   "id": "e6a3743b",
   "metadata": {},
   "source": [
    "# Deep Learning Study"
   ]
  },
  {
   "cell_type": "markdown",
   "id": "4fc1fe7d",
   "metadata": {},
   "source": [
    "## Functional API"
   ]
  },
  {
   "cell_type": "markdown",
   "id": "7a6193c1",
   "metadata": {},
   "source": [
    "### 분류문제"
   ]
  },
  {
   "cell_type": "code",
   "execution_count": 1,
   "id": "012fa13e",
   "metadata": {},
   "outputs": [],
   "source": [
    "from sklearn.datasets import load_boston"
   ]
  },
  {
   "cell_type": "code",
   "execution_count": 2,
   "id": "9b80f193",
   "metadata": {},
   "outputs": [
    {
     "name": "stderr",
     "output_type": "stream",
     "text": [
      "C:\\Users\\User\\AppData\\Roaming\\Python\\Python38\\site-packages\\sklearn\\utils\\deprecation.py:87: FutureWarning: Function load_boston is deprecated; `load_boston` is deprecated in 1.0 and will be removed in 1.2.\n",
      "\n",
      "    The Boston housing prices dataset has an ethical problem. You can refer to\n",
      "    the documentation of this function for further details.\n",
      "\n",
      "    The scikit-learn maintainers therefore strongly discourage the use of this\n",
      "    dataset unless the purpose of the code is to study and educate about\n",
      "    ethical issues in data science and machine learning.\n",
      "\n",
      "    In this special case, you can fetch the dataset from the original\n",
      "    source::\n",
      "\n",
      "        import pandas as pd\n",
      "        import numpy as np\n",
      "\n",
      "\n",
      "        data_url = \"http://lib.stat.cmu.edu/datasets/boston\"\n",
      "        raw_df = pd.read_csv(data_url, sep=\"\\s+\", skiprows=22, header=None)\n",
      "        data = np.hstack([raw_df.values[::2, :], raw_df.values[1::2, :2]])\n",
      "        target = raw_df.values[1::2, 2]\n",
      "\n",
      "    Alternative datasets include the California housing dataset (i.e.\n",
      "    :func:`~sklearn.datasets.fetch_california_housing`) and the Ames housing\n",
      "    dataset. You can load the datasets as follows::\n",
      "\n",
      "        from sklearn.datasets import fetch_california_housing\n",
      "        housing = fetch_california_housing()\n",
      "\n",
      "    for the California housing dataset and::\n",
      "\n",
      "        from sklearn.datasets import fetch_openml\n",
      "        housing = fetch_openml(name=\"house_prices\", as_frame=True)\n",
      "\n",
      "    for the Ames housing dataset.\n",
      "    \n",
      "  warnings.warn(msg, category=FutureWarning)\n"
     ]
    }
   ],
   "source": [
    "boston = load_boston()"
   ]
  },
  {
   "cell_type": "code",
   "execution_count": 3,
   "id": "eb5e8366",
   "metadata": {},
   "outputs": [
    {
     "data": {
      "text/plain": [
       "((506, 13), (506,))"
      ]
     },
     "execution_count": 3,
     "metadata": {},
     "output_type": "execute_result"
    }
   ],
   "source": [
    "x = boston.data\n",
    "y = boston.target\n",
    "\n",
    "x.shape, y.shape"
   ]
  },
  {
   "cell_type": "code",
   "execution_count": 4,
   "id": "7f0faa93",
   "metadata": {},
   "outputs": [],
   "source": [
    "import tensorflow as tf\n",
    "from tensorflow import keras"
   ]
  },
  {
   "cell_type": "code",
   "execution_count": 18,
   "id": "db1df063",
   "metadata": {},
   "outputs": [],
   "source": [
    "keras.backend.clear_session()\n",
    "\n",
    "il= keras.layers.Input(shape=(13,))\n",
    "ol= keras.layers.Dense(1)(il)\n",
    "\n",
    "model = keras.models.Model(il,ol)\n",
    "\n",
    "model.compile(loss='mse', optimizer='adam')"
   ]
  },
  {
   "cell_type": "code",
   "execution_count": 19,
   "id": "39e897a1",
   "metadata": {},
   "outputs": [
    {
     "name": "stdout",
     "output_type": "stream",
     "text": [
      "Epoch 1/10\n",
      "16/16 [==============================] - 0s 1ms/step - loss: 40084.6992\n",
      "Epoch 2/10\n",
      "16/16 [==============================] - 0s 997us/step - loss: 34448.1484\n",
      "Epoch 3/10\n",
      "16/16 [==============================] - 0s 1ms/step - loss: 29419.2930\n",
      "Epoch 4/10\n",
      "16/16 [==============================] - 0s 1ms/step - loss: 24898.2188\n",
      "Epoch 5/10\n",
      "16/16 [==============================] - 0s 1ms/step - loss: 20948.9824\n",
      "Epoch 6/10\n",
      "16/16 [==============================] - 0s 1ms/step - loss: 17515.5781\n",
      "Epoch 7/10\n",
      "16/16 [==============================] - 0s 1ms/step - loss: 14548.4922\n",
      "Epoch 8/10\n",
      "16/16 [==============================] - 0s 1ms/step - loss: 11985.0176\n",
      "Epoch 9/10\n",
      "16/16 [==============================] - 0s 1ms/step - loss: 9819.8926\n",
      "Epoch 10/10\n",
      "16/16 [==============================] - 0s 1ms/step - loss: 7975.8477\n"
     ]
    },
    {
     "data": {
      "text/plain": [
       "<keras.callbacks.History at 0x19e2a949af0>"
      ]
     },
     "execution_count": 19,
     "metadata": {},
     "output_type": "execute_result"
    }
   ],
   "source": [
    "model.fit(x,y,epochs=10, verbose=1)"
   ]
  },
  {
   "cell_type": "code",
   "execution_count": 20,
   "id": "8daf9893",
   "metadata": {},
   "outputs": [
    {
     "data": {
      "text/plain": [
       "array([-53.024353, -59.915142, -56.833183, -54.767067, -56.17633 ],\n",
       "      dtype=float32)"
      ]
     },
     "execution_count": 20,
     "metadata": {},
     "output_type": "execute_result"
    }
   ],
   "source": [
    "y_pred= model.predict(x)\n",
    "y_pred[:5].reshape(-1)"
   ]
  },
  {
   "cell_type": "code",
   "execution_count": 17,
   "id": "da7a2506",
   "metadata": {},
   "outputs": [
    {
     "data": {
      "text/plain": [
       "array([24. , 21.6, 34.7, 33.4, 36.2])"
      ]
     },
     "execution_count": 17,
     "metadata": {},
     "output_type": "execute_result"
    }
   ],
   "source": [
    "y[:5]"
   ]
  },
  {
   "cell_type": "markdown",
   "id": "21a04d13",
   "metadata": {},
   "source": [
    "### 회귀문제"
   ]
  },
  {
   "cell_type": "code",
   "execution_count": 21,
   "id": "cffd10f4",
   "metadata": {},
   "outputs": [],
   "source": [
    "from sklearn.datasets import load_breast_cancer"
   ]
  },
  {
   "cell_type": "code",
   "execution_count": 22,
   "id": "3f8d0b22",
   "metadata": {},
   "outputs": [],
   "source": [
    "cancer = load_breast_cancer()"
   ]
  },
  {
   "cell_type": "code",
   "execution_count": 23,
   "id": "0d28656b",
   "metadata": {},
   "outputs": [
    {
     "data": {
      "text/plain": [
       "((569, 30), (569,))"
      ]
     },
     "execution_count": 23,
     "metadata": {},
     "output_type": "execute_result"
    }
   ],
   "source": [
    "x = cancer.data\n",
    "y = cancer.target\n",
    "\n",
    "# 모양 확인해볼 것\n",
    "x.shape , y.shape"
   ]
  },
  {
   "cell_type": "code",
   "execution_count": 24,
   "id": "54bfe337",
   "metadata": {},
   "outputs": [],
   "source": [
    "keras.backend.clear_session()\n",
    "\n",
    "il=keras.layers.Input(shape=(30,))\n",
    "ol=keras.layers.Dense(1, activation='sigmoid')(il)\n",
    "\n",
    "model = keras.models.Model(il,ol)\n",
    "\n",
    "model.compile(loss='binary_crossentropy', metrics=['accuracy'], optimizer='adam')"
   ]
  },
  {
   "cell_type": "code",
   "execution_count": 25,
   "id": "87e86ee8",
   "metadata": {},
   "outputs": [
    {
     "name": "stdout",
     "output_type": "stream",
     "text": [
      "Epoch 1/10\n",
      "18/18 [==============================] - 0s 1ms/step - loss: 129.6218 - accuracy: 0.6274\n",
      "Epoch 2/10\n",
      "18/18 [==============================] - 0s 1ms/step - loss: 110.6040 - accuracy: 0.6274\n",
      "Epoch 3/10\n",
      "18/18 [==============================] - 0s 1ms/step - loss: 92.2821 - accuracy: 0.6274\n",
      "Epoch 4/10\n",
      "18/18 [==============================] - 0s 1ms/step - loss: 73.5893 - accuracy: 0.6274\n",
      "Epoch 5/10\n",
      "18/18 [==============================] - 0s 1ms/step - loss: 55.2183 - accuracy: 0.6257\n",
      "Epoch 6/10\n",
      "18/18 [==============================] - 0s 1ms/step - loss: 37.1585 - accuracy: 0.5888\n",
      "Epoch 7/10\n",
      "18/18 [==============================] - 0s 1ms/step - loss: 20.9303 - accuracy: 0.4025\n",
      "Epoch 8/10\n",
      "18/18 [==============================] - 0s 1ms/step - loss: 13.2745 - accuracy: 0.1845\n",
      "Epoch 9/10\n",
      "18/18 [==============================] - 0s 1ms/step - loss: 12.5441 - accuracy: 0.2056\n",
      "Epoch 10/10\n",
      "18/18 [==============================] - 0s 1ms/step - loss: 11.8182 - accuracy: 0.1880\n"
     ]
    },
    {
     "data": {
      "text/plain": [
       "<keras.callbacks.History at 0x19e2aa067f0>"
      ]
     },
     "execution_count": 25,
     "metadata": {},
     "output_type": "execute_result"
    }
   ],
   "source": [
    "model.fit(x,y, epochs=10, verbose=1)"
   ]
  },
  {
   "cell_type": "code",
   "execution_count": 28,
   "id": "8350ba46",
   "metadata": {},
   "outputs": [
    {
     "data": {
      "text/plain": [
       "array([9.9969935e-01, 1.0000000e+00, 9.9999946e-01, 2.4339155e-08,\n",
       "       9.9999905e-01], dtype=float32)"
      ]
     },
     "execution_count": 28,
     "metadata": {},
     "output_type": "execute_result"
    }
   ],
   "source": [
    "y_pred= model.predict(x)\n",
    "y_pred[:5].reshape(-1)"
   ]
  }
 ],
 "metadata": {
  "kernelspec": {
   "display_name": "Python 3",
   "language": "python",
   "name": "python3"
  },
  "language_info": {
   "codemirror_mode": {
    "name": "ipython",
    "version": 3
   },
   "file_extension": ".py",
   "mimetype": "text/x-python",
   "name": "python",
   "nbconvert_exporter": "python",
   "pygments_lexer": "ipython3",
   "version": "3.8.8"
  }
 },
 "nbformat": 4,
 "nbformat_minor": 5
}
