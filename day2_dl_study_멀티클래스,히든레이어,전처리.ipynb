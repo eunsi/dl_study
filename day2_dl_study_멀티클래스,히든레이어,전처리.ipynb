{
 "cells": [
  {
   "cell_type": "markdown",
   "id": "2b65f7b1",
   "metadata": {},
   "source": [
    "# Deep Learning Study"
   ]
  },
  {
   "cell_type": "markdown",
   "id": "1e9a23f7",
   "metadata": {},
   "source": [
    "## 멀티클래스"
   ]
  },
  {
   "cell_type": "markdown",
   "id": "59ea73ce",
   "metadata": {},
   "source": [
    "* 멀티클래스란 ? 3개 이상의 아웃풋에서 가장 높은 확률 클래스를 고르는 것\n",
    "> 필요한 기술 : 데이터 전처리 과정에서 one-hot-encoing이 필요하고, activationd의 값이 'softmax' , loss의 값은 'categorical_crossentropy'이 들어가야한다."
   ]
  },
  {
   "cell_type": "code",
   "execution_count": 1,
   "id": "167f3b11",
   "metadata": {},
   "outputs": [],
   "source": [
    "from sklearn.datasets import load_iris"
   ]
  },
  {
   "cell_type": "code",
   "execution_count": 2,
   "id": "c5c42c9e",
   "metadata": {},
   "outputs": [],
   "source": [
    "iris = load_iris()"
   ]
  },
  {
   "cell_type": "code",
   "execution_count": 3,
   "id": "38825cd1",
   "metadata": {},
   "outputs": [],
   "source": [
    "x = iris.data\n",
    "y = iris.target"
   ]
  },
  {
   "cell_type": "code",
   "execution_count": 4,
   "id": "3640ea05",
   "metadata": {},
   "outputs": [
    {
     "data": {
      "text/plain": [
       "((150, 4), (150,))"
      ]
     },
     "execution_count": 4,
     "metadata": {},
     "output_type": "execute_result"
    }
   ],
   "source": [
    "x.shape, y.shape"
   ]
  },
  {
   "cell_type": "code",
   "execution_count": 5,
   "id": "6df96878",
   "metadata": {},
   "outputs": [],
   "source": [
    "import tensorflow as tf\n",
    "from tensorflow import keras"
   ]
  },
  {
   "cell_type": "markdown",
   "id": "6d9ceefc",
   "metadata": {},
   "source": [
    "### 데이터 나누기"
   ]
  },
  {
   "cell_type": "code",
   "execution_count": 6,
   "id": "ba5201e7",
   "metadata": {},
   "outputs": [],
   "source": [
    "from sklearn.model_selection import train_test_split"
   ]
  },
  {
   "cell_type": "code",
   "execution_count": 7,
   "id": "37364f10",
   "metadata": {},
   "outputs": [],
   "source": [
    "x_train,x_test,y_train,y_test = train_test_split(x,y,test_size=0.1, random_state=2022)"
   ]
  },
  {
   "cell_type": "markdown",
   "id": "0991c99c",
   "metadata": {},
   "source": [
    "#### y의 데이터를 3개로 나누기 위해 전처리 작업이 필요하다."
   ]
  },
  {
   "cell_type": "code",
   "execution_count": 8,
   "id": "37da7be4",
   "metadata": {},
   "outputs": [],
   "source": [
    "from tensorflow.keras.utils import to_categorical"
   ]
  },
  {
   "cell_type": "code",
   "execution_count": 9,
   "id": "8e2cc7b2",
   "metadata": {},
   "outputs": [],
   "source": [
    "y_train = to_categorical(y_train,3)\n",
    "y_test = to_categorical(y_test,3)"
   ]
  },
  {
   "cell_type": "code",
   "execution_count": 10,
   "id": "bc796a4a",
   "metadata": {},
   "outputs": [
    {
     "data": {
      "text/plain": [
       "((135, 4), (135, 3))"
      ]
     },
     "execution_count": 10,
     "metadata": {},
     "output_type": "execute_result"
    }
   ],
   "source": [
    "# shape확인\n",
    "x_train.shape, y_train.shape"
   ]
  },
  {
   "cell_type": "markdown",
   "id": "6c48499b",
   "metadata": {},
   "source": [
    "#### 모델링 작업"
   ]
  },
  {
   "cell_type": "code",
   "execution_count": 11,
   "id": "ace7c4f7",
   "metadata": {},
   "outputs": [],
   "source": [
    "keras.backend.clear_session()\n",
    "\n",
    "il= keras.layers.Input(shape=(4,))\n",
    "ol= keras.layers.Dense(3, activation='softmax')(il)\n",
    "\n",
    "model = keras.models.Model(il,ol)\n",
    "\n",
    "model.compile(loss='categorical_crossentropy', optimizer='adam', metrics=['accuracy'])"
   ]
  },
  {
   "cell_type": "code",
   "execution_count": 12,
   "id": "156f20dd",
   "metadata": {},
   "outputs": [
    {
     "name": "stdout",
     "output_type": "stream",
     "text": [
      "Epoch 1/10\n",
      "4/4 [==============================] - 1s 71ms/step - loss: 2.4861 - accuracy: 0.5877 - val_loss: 1.8901 - val_accuracy: 0.6667\n",
      "Epoch 2/10\n",
      "4/4 [==============================] - 0s 11ms/step - loss: 2.4234 - accuracy: 0.6053 - val_loss: 1.8407 - val_accuracy: 0.6667\n",
      "Epoch 3/10\n",
      "4/4 [==============================] - 0s 11ms/step - loss: 2.3648 - accuracy: 0.6404 - val_loss: 1.7920 - val_accuracy: 0.7143\n",
      "Epoch 4/10\n",
      "4/4 [==============================] - 0s 11ms/step - loss: 2.3075 - accuracy: 0.6491 - val_loss: 1.7440 - val_accuracy: 0.7143\n",
      "Epoch 5/10\n",
      "4/4 [==============================] - 0s 11ms/step - loss: 2.2509 - accuracy: 0.6491 - val_loss: 1.6970 - val_accuracy: 0.7143\n",
      "Epoch 6/10\n",
      "4/4 [==============================] - 0s 12ms/step - loss: 2.1959 - accuracy: 0.6579 - val_loss: 1.6512 - val_accuracy: 0.7143\n",
      "Epoch 7/10\n",
      "4/4 [==============================] - 0s 12ms/step - loss: 2.1384 - accuracy: 0.6579 - val_loss: 1.6075 - val_accuracy: 0.7619\n",
      "Epoch 8/10\n",
      "4/4 [==============================] - 0s 11ms/step - loss: 2.0846 - accuracy: 0.6579 - val_loss: 1.5649 - val_accuracy: 0.7619\n",
      "Epoch 9/10\n",
      "4/4 [==============================] - 0s 12ms/step - loss: 2.0315 - accuracy: 0.6579 - val_loss: 1.5234 - val_accuracy: 0.7619\n",
      "Epoch 10/10\n",
      "4/4 [==============================] - 0s 11ms/step - loss: 1.9803 - accuracy: 0.6579 - val_loss: 1.4826 - val_accuracy: 0.7619\n"
     ]
    },
    {
     "data": {
      "text/plain": [
       "<keras.callbacks.History at 0x1ce84967d90>"
      ]
     },
     "execution_count": 12,
     "metadata": {},
     "output_type": "execute_result"
    }
   ],
   "source": [
    "model.fit(x_train ,y_train , epochs=10, verbose=1, validation_split=0.15)"
   ]
  },
  {
   "cell_type": "code",
   "execution_count": 13,
   "id": "8d581332",
   "metadata": {},
   "outputs": [
    {
     "data": {
      "text/plain": [
       "array([[3.0915644e-03, 9.9109674e-01, 5.8116480e-03],\n",
       "       [1.3029219e-03, 9.9611002e-01, 2.5871398e-03],\n",
       "       [6.6317374e-01, 3.3481446e-01, 2.0118454e-03],\n",
       "       [6.1517111e-03, 9.8969311e-01, 4.1551488e-03],\n",
       "       [7.4837327e-01, 2.5069618e-01, 9.3054341e-04]], dtype=float32)"
      ]
     },
     "execution_count": 13,
     "metadata": {},
     "output_type": "execute_result"
    }
   ],
   "source": [
    "# 모델예측\n",
    "\n",
    "y_pred = model.predict(x_test)\n",
    "y_pred[:5]"
   ]
  },
  {
   "cell_type": "markdown",
   "id": "0f578fc7",
   "metadata": {},
   "source": [
    "## 히든레이어"
   ]
  },
  {
   "cell_type": "markdown",
   "id": "d590a383",
   "metadata": {},
   "source": [
    "* 히든레이어를 추가하는 이유 : 선형회귀로는 안 풀리는 문제가 많기 때문에 선형성을 훼손하기 위해 relu를 추가한다."
   ]
  },
  {
   "cell_type": "code",
   "execution_count": 14,
   "id": "ab405b2c",
   "metadata": {},
   "outputs": [],
   "source": [
    "#모델링\n",
    "\n",
    "keras.backend.clear_session()\n",
    "\n",
    "model = keras.models.Sequential()\n",
    "\n",
    "model.add( keras.layers.Input(shape=(4,) ))\n",
    "model.add( keras.layers.Dense(32, activation='relu'))\n",
    "model.add( keras.layers.Dense(32, activation='relu'))\n",
    "model.add( keras.layers.Dense(3, activation='softmax'))\n",
    "\n",
    "model.compile(loss='categorical_crossentropy', optimizer='adam', metrics=['accuracy'])"
   ]
  },
  {
   "cell_type": "code",
   "execution_count": 15,
   "id": "bef9e40e",
   "metadata": {},
   "outputs": [
    {
     "name": "stdout",
     "output_type": "stream",
     "text": [
      "Epoch 1/10\n",
      "4/4 [==============================] - 1s 60ms/step - loss: 1.1607 - accuracy: 0.1754 - val_loss: 1.1599 - val_accuracy: 0.1905\n",
      "Epoch 2/10\n",
      "4/4 [==============================] - 0s 13ms/step - loss: 1.1086 - accuracy: 0.2895 - val_loss: 1.1148 - val_accuracy: 0.1905\n",
      "Epoch 3/10\n",
      "4/4 [==============================] - 0s 12ms/step - loss: 1.0659 - accuracy: 0.3070 - val_loss: 1.0653 - val_accuracy: 0.1905\n",
      "Epoch 4/10\n",
      "4/4 [==============================] - 0s 13ms/step - loss: 1.0284 - accuracy: 0.3158 - val_loss: 1.0181 - val_accuracy: 0.2381\n",
      "Epoch 5/10\n",
      "4/4 [==============================] - 0s 10ms/step - loss: 0.9878 - accuracy: 0.5175 - val_loss: 0.9763 - val_accuracy: 0.7143\n",
      "Epoch 6/10\n",
      "4/4 [==============================] - 0s 11ms/step - loss: 0.9512 - accuracy: 0.7105 - val_loss: 0.9484 - val_accuracy: 0.8571\n",
      "Epoch 7/10\n",
      "4/4 [==============================] - 0s 11ms/step - loss: 0.9330 - accuracy: 0.7632 - val_loss: 0.9240 - val_accuracy: 0.8571\n",
      "Epoch 8/10\n",
      "4/4 [==============================] - 0s 12ms/step - loss: 0.9119 - accuracy: 0.7632 - val_loss: 0.9046 - val_accuracy: 0.7619\n",
      "Epoch 9/10\n",
      "4/4 [==============================] - 0s 11ms/step - loss: 0.8910 - accuracy: 0.7105 - val_loss: 0.8865 - val_accuracy: 0.7143\n",
      "Epoch 10/10\n",
      "4/4 [==============================] - 0s 12ms/step - loss: 0.8715 - accuracy: 0.6930 - val_loss: 0.8658 - val_accuracy: 0.6667\n"
     ]
    },
    {
     "data": {
      "text/plain": [
       "<keras.callbacks.History at 0x1ce85003d00>"
      ]
     },
     "execution_count": 15,
     "metadata": {},
     "output_type": "execute_result"
    }
   ],
   "source": [
    "model.fit(x_train, y_train, epochs=10, verbose=1, validation_split=0.15)"
   ]
  },
  {
   "cell_type": "code",
   "execution_count": 16,
   "id": "d0f70b89",
   "metadata": {},
   "outputs": [],
   "source": [
    "y_pred=model.predict(x_test)"
   ]
  },
  {
   "cell_type": "code",
   "execution_count": 17,
   "id": "9b6ed7e9",
   "metadata": {},
   "outputs": [
    {
     "data": {
      "text/plain": [
       "array([[0.1660571 , 0.3133293 , 0.5206136 ],\n",
       "       [0.14842589, 0.34451914, 0.507055  ],\n",
       "       [0.4172692 , 0.2903237 , 0.2924071 ]], dtype=float32)"
      ]
     },
     "execution_count": 17,
     "metadata": {},
     "output_type": "execute_result"
    }
   ],
   "source": [
    "y_pred[:3]"
   ]
  },
  {
   "cell_type": "code",
   "execution_count": 18,
   "id": "19dfd7dc",
   "metadata": {},
   "outputs": [
    {
     "data": {
      "text/plain": [
       "array([[0., 0., 1.],\n",
       "       [0., 0., 1.],\n",
       "       [1., 0., 0.]], dtype=float32)"
      ]
     },
     "execution_count": 18,
     "metadata": {},
     "output_type": "execute_result"
    }
   ],
   "source": [
    "y_test[:3]"
   ]
  }
 ],
 "metadata": {
  "kernelspec": {
   "display_name": "Python 3",
   "language": "python",
   "name": "python3"
  },
  "language_info": {
   "codemirror_mode": {
    "name": "ipython",
    "version": 3
   },
   "file_extension": ".py",
   "mimetype": "text/x-python",
   "name": "python",
   "nbconvert_exporter": "python",
   "pygments_lexer": "ipython3",
   "version": "3.8.8"
  }
 },
 "nbformat": 4,
 "nbformat_minor": 5
}
